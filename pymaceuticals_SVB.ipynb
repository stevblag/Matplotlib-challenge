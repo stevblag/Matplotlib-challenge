{
 "cells": [
  {
   "cell_type": "markdown",
   "metadata": {},
   "source": [
    "## Observations and Insights"
   ]
  },
  {
   "cell_type": "markdown",
   "metadata": {},
   "source": []
  },
  {
   "cell_type": "markdown",
   "metadata": {},
   "source": [
    "## Dependencies and starter code"
   ]
  },
  {
   "cell_type": "code",
   "execution_count": 88,
   "metadata": {},
   "outputs": [
    {
     "data": {
      "text/html": [
       "<div>\n",
       "<style scoped>\n",
       "    .dataframe tbody tr th:only-of-type {\n",
       "        vertical-align: middle;\n",
       "    }\n",
       "\n",
       "    .dataframe tbody tr th {\n",
       "        vertical-align: top;\n",
       "    }\n",
       "\n",
       "    .dataframe thead th {\n",
       "        text-align: right;\n",
       "    }\n",
       "</style>\n",
       "<table border=\"1\" class=\"dataframe\">\n",
       "  <thead>\n",
       "    <tr style=\"text-align: right;\">\n",
       "      <th></th>\n",
       "      <th>Mouse ID</th>\n",
       "      <th>Drug Regimen</th>\n",
       "      <th>Sex</th>\n",
       "      <th>Age_months</th>\n",
       "      <th>Weight (g)</th>\n",
       "      <th>Timepoint</th>\n",
       "      <th>Tumor Volume (mm3)</th>\n",
       "      <th>Metastatic Sites</th>\n",
       "    </tr>\n",
       "  </thead>\n",
       "  <tbody>\n",
       "    <tr>\n",
       "      <td>0</td>\n",
       "      <td>k403</td>\n",
       "      <td>Ramicane</td>\n",
       "      <td>Male</td>\n",
       "      <td>21</td>\n",
       "      <td>16</td>\n",
       "      <td>0</td>\n",
       "      <td>45.000000</td>\n",
       "      <td>0</td>\n",
       "    </tr>\n",
       "    <tr>\n",
       "      <td>1</td>\n",
       "      <td>k403</td>\n",
       "      <td>Ramicane</td>\n",
       "      <td>Male</td>\n",
       "      <td>21</td>\n",
       "      <td>16</td>\n",
       "      <td>5</td>\n",
       "      <td>38.825898</td>\n",
       "      <td>0</td>\n",
       "    </tr>\n",
       "    <tr>\n",
       "      <td>2</td>\n",
       "      <td>k403</td>\n",
       "      <td>Ramicane</td>\n",
       "      <td>Male</td>\n",
       "      <td>21</td>\n",
       "      <td>16</td>\n",
       "      <td>10</td>\n",
       "      <td>35.014271</td>\n",
       "      <td>1</td>\n",
       "    </tr>\n",
       "    <tr>\n",
       "      <td>3</td>\n",
       "      <td>k403</td>\n",
       "      <td>Ramicane</td>\n",
       "      <td>Male</td>\n",
       "      <td>21</td>\n",
       "      <td>16</td>\n",
       "      <td>15</td>\n",
       "      <td>34.223992</td>\n",
       "      <td>1</td>\n",
       "    </tr>\n",
       "    <tr>\n",
       "      <td>4</td>\n",
       "      <td>k403</td>\n",
       "      <td>Ramicane</td>\n",
       "      <td>Male</td>\n",
       "      <td>21</td>\n",
       "      <td>16</td>\n",
       "      <td>20</td>\n",
       "      <td>32.997729</td>\n",
       "      <td>1</td>\n",
       "    </tr>\n",
       "  </tbody>\n",
       "</table>\n",
       "</div>"
      ],
      "text/plain": [
       "  Mouse ID Drug Regimen   Sex  Age_months  Weight (g)  Timepoint  \\\n",
       "0     k403     Ramicane  Male          21          16          0   \n",
       "1     k403     Ramicane  Male          21          16          5   \n",
       "2     k403     Ramicane  Male          21          16         10   \n",
       "3     k403     Ramicane  Male          21          16         15   \n",
       "4     k403     Ramicane  Male          21          16         20   \n",
       "\n",
       "   Tumor Volume (mm3)  Metastatic Sites  \n",
       "0           45.000000                 0  \n",
       "1           38.825898                 0  \n",
       "2           35.014271                 1  \n",
       "3           34.223992                 1  \n",
       "4           32.997729                 1  "
      ]
     },
     "execution_count": 88,
     "metadata": {},
     "output_type": "execute_result"
    }
   ],
   "source": [
    "# Dependencies and Setup\n",
    "import matplotlib.pyplot as plt\n",
    "from scipy import stats\n",
    "import pandas as pd\n",
    "import numpy as np\n",
    "\n",
    "# Study data files\n",
    "\n",
    "# Read the mouse data and the study results\n",
    "mouse_metadata = \"data/Mouse_metadata.csv\"\n",
    "mouse_meta_df = pd.read_csv(mouse_metadata)\n",
    "\n",
    "study_results = \"data/Study_results.csv\"\n",
    "study_rets_df = pd.read_csv(study_results)\n",
    "\n",
    "# Combine the data into a single dataset\n",
    "combo_data_df = pd.merge(mouse_meta_df, study_rets_df, on=\"Mouse ID\")\n",
    "combo_data_df.dropna\n",
    "combo_data_df.head()\n",
    "\n",
    "# combo_data_df = combo_data_df.set_index(\"Drug Regimen\")"
   ]
  },
  {
   "cell_type": "markdown",
   "metadata": {},
   "source": [
    "## Summary statistics"
   ]
  },
  {
   "cell_type": "code",
   "execution_count": 89,
   "metadata": {},
   "outputs": [
    {
     "data": {
      "text/html": [
       "<div>\n",
       "<style scoped>\n",
       "    .dataframe tbody tr th:only-of-type {\n",
       "        vertical-align: middle;\n",
       "    }\n",
       "\n",
       "    .dataframe tbody tr th {\n",
       "        vertical-align: top;\n",
       "    }\n",
       "\n",
       "    .dataframe thead th {\n",
       "        text-align: right;\n",
       "    }\n",
       "</style>\n",
       "<table border=\"1\" class=\"dataframe\">\n",
       "  <thead>\n",
       "    <tr style=\"text-align: right;\">\n",
       "      <th></th>\n",
       "      <th>Mean</th>\n",
       "      <th>Median</th>\n",
       "      <th>Variance</th>\n",
       "      <th>Standard Deviation</th>\n",
       "      <th>SEM</th>\n",
       "    </tr>\n",
       "    <tr>\n",
       "      <th>Drug Regimen</th>\n",
       "      <th></th>\n",
       "      <th></th>\n",
       "      <th></th>\n",
       "      <th></th>\n",
       "      <th></th>\n",
       "    </tr>\n",
       "  </thead>\n",
       "  <tbody>\n",
       "    <tr>\n",
       "      <td>Capomulin</td>\n",
       "      <td>40.675741</td>\n",
       "      <td>41.557809</td>\n",
       "      <td>24.947764</td>\n",
       "      <td>4.994774</td>\n",
       "      <td>0.329346</td>\n",
       "    </tr>\n",
       "    <tr>\n",
       "      <td>Ceftamin</td>\n",
       "      <td>52.591172</td>\n",
       "      <td>51.776157</td>\n",
       "      <td>39.290177</td>\n",
       "      <td>6.268188</td>\n",
       "      <td>0.469821</td>\n",
       "    </tr>\n",
       "    <tr>\n",
       "      <td>Infubinol</td>\n",
       "      <td>52.884795</td>\n",
       "      <td>51.820584</td>\n",
       "      <td>43.128684</td>\n",
       "      <td>6.567243</td>\n",
       "      <td>0.492236</td>\n",
       "    </tr>\n",
       "    <tr>\n",
       "      <td>Ketapril</td>\n",
       "      <td>55.235638</td>\n",
       "      <td>53.698743</td>\n",
       "      <td>68.553577</td>\n",
       "      <td>8.279709</td>\n",
       "      <td>0.603860</td>\n",
       "    </tr>\n",
       "    <tr>\n",
       "      <td>Naftisol</td>\n",
       "      <td>54.331565</td>\n",
       "      <td>52.509285</td>\n",
       "      <td>66.173479</td>\n",
       "      <td>8.134708</td>\n",
       "      <td>0.596466</td>\n",
       "    </tr>\n",
       "    <tr>\n",
       "      <td>Placebo</td>\n",
       "      <td>54.033581</td>\n",
       "      <td>52.288934</td>\n",
       "      <td>61.168083</td>\n",
       "      <td>7.821003</td>\n",
       "      <td>0.581331</td>\n",
       "    </tr>\n",
       "    <tr>\n",
       "      <td>Propriva</td>\n",
       "      <td>52.322552</td>\n",
       "      <td>50.854632</td>\n",
       "      <td>42.351070</td>\n",
       "      <td>6.507770</td>\n",
       "      <td>0.512884</td>\n",
       "    </tr>\n",
       "    <tr>\n",
       "      <td>Ramicane</td>\n",
       "      <td>40.216745</td>\n",
       "      <td>40.673236</td>\n",
       "      <td>23.486704</td>\n",
       "      <td>4.846308</td>\n",
       "      <td>0.320955</td>\n",
       "    </tr>\n",
       "    <tr>\n",
       "      <td>Stelasyn</td>\n",
       "      <td>54.233149</td>\n",
       "      <td>52.431737</td>\n",
       "      <td>59.450562</td>\n",
       "      <td>7.710419</td>\n",
       "      <td>0.573111</td>\n",
       "    </tr>\n",
       "    <tr>\n",
       "      <td>Zoniferol</td>\n",
       "      <td>53.236507</td>\n",
       "      <td>51.818479</td>\n",
       "      <td>48.533355</td>\n",
       "      <td>6.966589</td>\n",
       "      <td>0.516398</td>\n",
       "    </tr>\n",
       "  </tbody>\n",
       "</table>\n",
       "</div>"
      ],
      "text/plain": [
       "                   Mean     Median   Variance  Standard Deviation       SEM\n",
       "Drug Regimen                                                               \n",
       "Capomulin     40.675741  41.557809  24.947764            4.994774  0.329346\n",
       "Ceftamin      52.591172  51.776157  39.290177            6.268188  0.469821\n",
       "Infubinol     52.884795  51.820584  43.128684            6.567243  0.492236\n",
       "Ketapril      55.235638  53.698743  68.553577            8.279709  0.603860\n",
       "Naftisol      54.331565  52.509285  66.173479            8.134708  0.596466\n",
       "Placebo       54.033581  52.288934  61.168083            7.821003  0.581331\n",
       "Propriva      52.322552  50.854632  42.351070            6.507770  0.512884\n",
       "Ramicane      40.216745  40.673236  23.486704            4.846308  0.320955\n",
       "Stelasyn      54.233149  52.431737  59.450562            7.710419  0.573111\n",
       "Zoniferol     53.236507  51.818479  48.533355            6.966589  0.516398"
      ]
     },
     "execution_count": 89,
     "metadata": {},
     "output_type": "execute_result"
    }
   ],
   "source": [
    "# Generate a summary statistics table of mean, median, variance, standard deviation, and SEM of the tumor volume for each regiment\n",
    "\n",
    "# combo_data_df.describe()\n",
    "\n",
    "mean = combo_data_df.groupby('Drug Regimen')['Tumor Volume (mm3)'].mean()\n",
    "median = combo_data_df.groupby('Drug Regimen')['Tumor Volume (mm3)'].median()\n",
    "variance = combo_data_df.groupby('Drug Regimen')['Tumor Volume (mm3)'].var()\n",
    "stdv = combo_data_df.groupby('Drug Regimen')['Tumor Volume (mm3)'].std()\n",
    "sem = combo_data_df.groupby('Drug Regimen')['Tumor Volume (mm3)'].sem()\n",
    "summary_table_df = pd.DataFrame({\"Mean\": mean, \"Median\": median, \"Variance\": variance, \"Standard Deviation\": stdv, \n",
    "                          \"SEM\": sem})\n",
    "summary_table_df"
   ]
  },
  {
   "cell_type": "markdown",
   "metadata": {},
   "source": [
    "## Bar plots"
   ]
  },
  {
   "cell_type": "code",
   "execution_count": 90,
   "metadata": {},
   "outputs": [],
   "source": [
    "# Generate a bar plot showing number of data points for each treatment regimen using pandas\n",
    "combo_group_df = pd.DataFrame(combo_data_df.groupby([\"Drug Regimen\"]).count()).reset_index()\n",
    "\n",
    "treatment_regimen = combo_group_df[[\"Drug Regimen\",\"Mouse ID\"]]\n",
    "\n",
    "treatment_regimen = treatment_regimen.rename(columns={\"Mouse ID\": \"Count\"})\n",
    "\n",
    "# Index as Labels\n",
    "treatment_regimen = treatment_regimen.set_index(\"Drug Regimen\")"
   ]
  },
  {
   "cell_type": "code",
   "execution_count": 91,
   "metadata": {},
   "outputs": [
    {
     "data": {
      "image/png": "[encoded data removed]",
      "text/plain": [
       "<Figure size 864x288 with 1 Axes>"
      ]
     },
     "metadata": {
      "needs_background": "light"
     },
     "output_type": "display_data"
    },
    {
     "data": {
      "text/plain": [
       "<Figure size 432x288 with 0 Axes>"
      ]
     },
     "metadata": {},
     "output_type": "display_data"
    }
   ],
   "source": [
    "# Generate a bar plot showing number of data points for each treatment regimen using pyplot\n",
    "treatment_regimen.plot(kind=\"bar\", figsize=(12,4))\n",
    "\n",
    "# Chart Title\n",
    "plt.title(\"Drug Regimen Count\")\n",
    "\n",
    "plt.show()\n",
    "plt.tight_layout()"
   ]
  },
  {
   "cell_type": "markdown",
   "metadata": {},
   "source": [
    "## Pie plots"
   ]
  },
  {
   "cell_type": "code",
   "execution_count": 92,
   "metadata": {},
   "outputs": [
    {
     "data": {
      "text/plain": [
       "<matplotlib.axes._subplots.AxesSubplot at 0x1a214eec10>"
      ]
     },
     "execution_count": 92,
     "metadata": {},
     "output_type": "execute_result"
    },
    {
     "data": {
      "image/png": "[encoded data removed]",
      "text/plain": [
       "<Figure size 864x576 with 1 Axes>"
      ]
     },
     "metadata": {},
     "output_type": "display_data"
    }
   ],
   "source": [
    "# Generate a pie plot showing the distribution of female versus male mice using pandas\n",
    "gender_df = pd.DataFrame(combo_data_df.groupby([\"Sex\"]).count()).reset_index()\n",
    "gender_df.head()\n",
    "\n",
    "# Column Filter\n",
    "gender_df = gender_df[[\"Sex\",\"Mouse ID\"]]\n",
    "gender_df = gender_df.rename(columns={\"Mouse ID\": \"Count\"})\n",
    "gender_df.head()\n",
    "\n",
    "# Pandas Pie Plot\n",
    "plt.figure(figsize=(12,8))\n",
    "ax1 = plt.subplot(121, aspect='equal')\n",
    "gender_df.plot(kind='pie', y = \"Count\", ax=ax1, autopct='%1.1f%%', \n",
    "startangle=60, shadow=False, labels=gender_df['Sex'], legend = False, fontsize=14)"
   ]
  },
  {
   "cell_type": "code",
   "execution_count": 93,
   "metadata": {},
   "outputs": [
    {
     "data": {
      "text/plain": [
       "([<matplotlib.patches.Wedge at 0x1a20517e10>,\n",
       "  <matplotlib.patches.Wedge at 0x1a205236d0>],\n",
       " [Text(-1.0504916785005727, -0.5800579569327962, 'Females'),\n",
       "  Text(0.9629507052921915, 0.5317197938550634, 'Males')],\n",
       " [Text(-0.6127868124586674, -0.33836714154413106, '49.4%'),\n",
       "  Text(0.5252458392502862, 0.2900289784663982, '50.6%')])"
      ]
     },
     "execution_count": 93,
     "metadata": {},
     "output_type": "execute_result"
    },
    {
     "data": {
      "image/png": "[encoded data removed]",
      "text/plain": [
       "<Figure size 432x288 with 1 Axes>"
      ]
     },
     "metadata": {},
     "output_type": "display_data"
    }
   ],
   "source": [
    "# Generate a pie plot showing the distribution of female versus male mice using pyplot\n",
    "gender_count = (combo_data_df.groupby([\"Sex\"])[\"Age_months\"].count()).tolist()\n",
    "gender_count\n",
    "\n",
    "# Labels\n",
    "labels = [\"Females\", \"Males\"]\n",
    "\n",
    "# Colors\n",
    "colors = [\"pink\", \"lightblue\"]\n",
    "\n",
    "# Format\n",
    "explode = (0.1, 0)\n",
    "\n",
    "# PyPlot\n",
    "plt.pie(gender_count, explode=explode, labels=labels, colors=colors,\n",
    "        autopct=\"%1.1f%%\", shadow=True, startangle=120)"
   ]
  },
  {
   "cell_type": "markdown",
   "metadata": {},
   "source": [
    "## Quartiles, outliers and boxplots"
   ]
  },
  {
   "cell_type": "code",
   "execution_count": 94,
   "metadata": {},
   "outputs": [
    {
     "data": {
      "text/html": [
       "<div>\n",
       "<style scoped>\n",
       "    .dataframe tbody tr th:only-of-type {\n",
       "        vertical-align: middle;\n",
       "    }\n",
       "\n",
       "    .dataframe tbody tr th {\n",
       "        vertical-align: top;\n",
       "    }\n",
       "\n",
       "    .dataframe thead th {\n",
       "        text-align: right;\n",
       "    }\n",
       "</style>\n",
       "<table border=\"1\" class=\"dataframe\">\n",
       "  <thead>\n",
       "    <tr style=\"text-align: right;\">\n",
       "      <th></th>\n",
       "      <th>index</th>\n",
       "      <th>Mouse ID</th>\n",
       "      <th>Drug Regimen</th>\n",
       "      <th>Sex</th>\n",
       "      <th>Age_months</th>\n",
       "      <th>Weight (g)</th>\n",
       "      <th>Timepoint</th>\n",
       "      <th>Tumor Volume (mm3)</th>\n",
       "      <th>Metastatic Sites</th>\n",
       "    </tr>\n",
       "  </thead>\n",
       "  <tbody>\n",
       "    <tr>\n",
       "      <td>0</td>\n",
       "      <td>309</td>\n",
       "      <td>b128</td>\n",
       "      <td>Capomulin</td>\n",
       "      <td>Female</td>\n",
       "      <td>9</td>\n",
       "      <td>22</td>\n",
       "      <td>45</td>\n",
       "      <td>38.982878</td>\n",
       "      <td>2</td>\n",
       "    </tr>\n",
       "    <tr>\n",
       "      <td>1</td>\n",
       "      <td>299</td>\n",
       "      <td>b742</td>\n",
       "      <td>Capomulin</td>\n",
       "      <td>Male</td>\n",
       "      <td>7</td>\n",
       "      <td>21</td>\n",
       "      <td>45</td>\n",
       "      <td>38.939633</td>\n",
       "      <td>0</td>\n",
       "    </tr>\n",
       "    <tr>\n",
       "      <td>2</td>\n",
       "      <td>244</td>\n",
       "      <td>g288</td>\n",
       "      <td>Capomulin</td>\n",
       "      <td>Male</td>\n",
       "      <td>3</td>\n",
       "      <td>19</td>\n",
       "      <td>45</td>\n",
       "      <td>37.074024</td>\n",
       "      <td>1</td>\n",
       "    </tr>\n",
       "    <tr>\n",
       "      <td>3</td>\n",
       "      <td>360</td>\n",
       "      <td>g316</td>\n",
       "      <td>Capomulin</td>\n",
       "      <td>Female</td>\n",
       "      <td>22</td>\n",
       "      <td>22</td>\n",
       "      <td>45</td>\n",
       "      <td>40.159220</td>\n",
       "      <td>2</td>\n",
       "    </tr>\n",
       "    <tr>\n",
       "      <td>4</td>\n",
       "      <td>440</td>\n",
       "      <td>i557</td>\n",
       "      <td>Capomulin</td>\n",
       "      <td>Female</td>\n",
       "      <td>1</td>\n",
       "      <td>24</td>\n",
       "      <td>45</td>\n",
       "      <td>47.685963</td>\n",
       "      <td>1</td>\n",
       "    </tr>\n",
       "  </tbody>\n",
       "</table>\n",
       "</div>"
      ],
      "text/plain": [
       "   index Mouse ID Drug Regimen     Sex  Age_months  Weight (g)  Timepoint  \\\n",
       "0    309     b128    Capomulin  Female           9          22         45   \n",
       "1    299     b742    Capomulin    Male           7          21         45   \n",
       "2    244     g288    Capomulin    Male           3          19         45   \n",
       "3    360     g316    Capomulin  Female          22          22         45   \n",
       "4    440     i557    Capomulin  Female           1          24         45   \n",
       "\n",
       "   Tumor Volume (mm3)  Metastatic Sites  \n",
       "0           38.982878                 2  \n",
       "1           38.939633                 0  \n",
       "2           37.074024                 1  \n",
       "3           40.159220                 2  \n",
       "4           47.685963                 1  "
      ]
     },
     "execution_count": 94,
     "metadata": {},
     "output_type": "execute_result"
    }
   ],
   "source": [
    "# Calculate the final tumor volume of each mouse across four of the most promising treatment regimens. Calculate the IQR and quantitatively determine if there are any potential outliers.\n",
    "\n",
    "# Sort data\n",
    "sort_data_df = combo_data_df.sort_values([\"Drug Regimen\", \"Mouse ID\", \"Timepoint\"], ascending=True)\n",
    "\n",
    "# Final volume <for each mouse>\n",
    "max_df = sort_data_df.loc[sort_data_df[\"Timepoint\"] == 45]\n",
    "max_df.head().reset_index()"
   ]
  },
  {
   "cell_type": "code",
   "execution_count": 95,
   "metadata": {},
   "outputs": [
    {
     "name": "stdout",
     "output_type": "stream",
     "text": [
      "The upper quartile of volumes is: 40.1592203\n",
      "The lower quartile of volumes is: 32.37735684\n",
      "The interquartile range of volumes is: 7.781863460000004\n",
      "The the median of volumes is: 37.31184577 \n",
      "Outliers could be found in values above 51.83201549.\n",
      "Outliers could be found in values below 20.70456164999999.\n"
     ]
    }
   ],
   "source": [
    "# Capomulin\n",
    "capomulin_df = max_df[max_df['Drug Regimen'].isin(['Capomulin'])]\n",
    "capomulin_df.head().reset_index()\n",
    "\n",
    "cap_data = capomulin_df.sort_values([\"Tumor Volume (mm3)\"], ascending=True).reset_index()\n",
    "cap_data = cap_data[\"Tumor Volume (mm3)\"]\n",
    "cap_data\n",
    "\n",
    "quartiles = cap_data.quantile([.25,.5,.75])\n",
    "upperq = quartiles[0.75]\n",
    "lowerq = quartiles[0.25]\n",
    "iqr = upperq-lowerq\n",
    "\n",
    "print(f\"The upper quartile of volumes is: {upperq}\")\n",
    "print(f\"The lower quartile of volumes is: {lowerq}\")\n",
    "print(f\"The interquartile range of volumes is: {iqr}\")\n",
    "print(f\"The the median of volumes is: {quartiles[0.5]} \")\n",
    "\n",
    "upper_bound = upperq + (1.5*iqr)\n",
    "lower_bound = lowerq - (1.5*iqr)\n",
    "\n",
    "print(f\"Outliers could be found in values above {upper_bound}.\")\n",
    "print(f\"Outliers could be found in values below {lower_bound}.\")"
   ]
  },
  {
   "cell_type": "code",
   "execution_count": 96,
   "metadata": {},
   "outputs": [
    {
     "data": {
      "image/png": "[encoded data removed]",
      "text/plain": [
       "<Figure size 432x288 with 1 Axes>"
      ]
     },
     "metadata": {
      "needs_background": "light"
     },
     "output_type": "display_data"
    }
   ],
   "source": [
    "# Capomulin Outlier Plot\n",
    "fig1, ax1 = plt.subplots()\n",
    "ax1.set_title('Capomulin Regimen Final Tumor Volume')\n",
    "ax1.set_ylabel('Final Tumor Volume (mm3)')\n",
    "ax1.boxplot(cap_data)\n",
    "plt.show()"
   ]
  },
  {
   "cell_type": "code",
   "execution_count": 97,
   "metadata": {},
   "outputs": [
    {
     "name": "stdout",
     "output_type": "stream",
     "text": [
      "The upper quartile of volumes is: 38.508305307499995\n",
      "The lower quartile of volumes is: 30.981175224999998\n",
      "The interquartile range of volumes is: 7.527130082499998\n",
      "The the median of volumes is: 34.848627300000004 \n",
      "Outliers could be found in values above 49.79900043124999.\n",
      "Outliers could be found in values below 19.690480101250003.\n"
     ]
    }
   ],
   "source": [
    "# Ramicane\n",
    "ramicane_df = max_df[max_df['Drug Regimen'].isin(['Ramicane'])]\n",
    "ramicane_df.head().reset_index()\n",
    "\n",
    "ram_data = ramicane_df.sort_values([\"Tumor Volume (mm3)\"], ascending=True).reset_index()\n",
    "ram_data = ram_data[\"Tumor Volume (mm3)\"]\n",
    "ram_data\n",
    "\n",
    "quartiles = ram_data.quantile([.25,.5,.75])\n",
    "upperq = quartiles[0.75]\n",
    "lowerq = quartiles[0.25]\n",
    "iqr = upperq-lowerq\n",
    "\n",
    "print(f\"The upper quartile of volumes is: {upperq}\")\n",
    "print(f\"The lower quartile of volumes is: {lowerq}\")\n",
    "print(f\"The interquartile range of volumes is: {iqr}\")\n",
    "print(f\"The the median of volumes is: {quartiles[0.5]} \")\n",
    "\n",
    "upper_bound = upperq + (1.5*iqr)\n",
    "lower_bound = lowerq - (1.5*iqr)\n",
    "\n",
    "print(f\"Outliers could be found in values above {upper_bound}.\")\n",
    "print(f\"Outliers could be found in values below {lower_bound}.\")"
   ]
  },
  {
   "cell_type": "code",
   "execution_count": 98,
   "metadata": {},
   "outputs": [
    {
     "data": {
      "image/png": "[encoded data removed]",
      "text/plain": [
       "<Figure size 432x288 with 1 Axes>"
      ]
     },
     "metadata": {
      "needs_background": "light"
     },
     "output_type": "display_data"
    }
   ],
   "source": [
    "# Ramicane Outlier Plot\n",
    "fig1, ax1 = plt.subplots()\n",
    "ax1.set_title('Ramicane Regimen Final Tumor Volume')\n",
    "ax1.set_ylabel('Final Tumor Volume (mm3)')\n",
    "ax1.boxplot(ram_data)\n",
    "plt.show()"
   ]
  },
  {
   "cell_type": "code",
   "execution_count": 99,
   "metadata": {},
   "outputs": [
    {
     "name": "stdout",
     "output_type": "stream",
     "text": [
      "The upper quartile of volumes is: 67.68556862\n",
      "The lower quartile of volumes is: 62.75445141\n",
      "The interquartile range of volumes is: 4.9311172099999965\n",
      "The the median of volumes is: 66.08306589 \n",
      "Outliers could be found in values above 75.08224443499999.\n",
      "Outliers could be found in values below 55.35777559500001.\n"
     ]
    }
   ],
   "source": [
    "# Infubinol\n",
    "infubinol_df = max_df[max_df['Drug Regimen'].isin(['Infubinol'])]\n",
    "infubinol_df.head().reset_index()\n",
    "\n",
    "inf_data = infubinol_df.sort_values([\"Tumor Volume (mm3)\"], ascending=True).reset_index()\n",
    "inf_data = inf_data[\"Tumor Volume (mm3)\"]\n",
    "inf_data\n",
    "\n",
    "quartiles = inf_data.quantile([.25,.5,.75])\n",
    "upperq = quartiles[0.75]\n",
    "lowerq = quartiles[0.25]\n",
    "iqr = upperq-lowerq\n",
    "\n",
    "print(f\"The upper quartile of volumes is: {upperq}\")\n",
    "print(f\"The lower quartile of volumes is: {lowerq}\")\n",
    "print(f\"The interquartile range of volumes is: {iqr}\")\n",
    "print(f\"The the median of volumes is: {quartiles[0.5]} \")\n",
    "\n",
    "upper_bound = upperq + (1.5*iqr)\n",
    "lower_bound = lowerq - (1.5*iqr)\n",
    "\n",
    "print(f\"Outliers could be found in values above {upper_bound}.\")\n",
    "print(f\"Outliers could be found in values below {lower_bound}.\")"
   ]
  },
  {
   "cell_type": "code",
   "execution_count": 100,
   "metadata": {},
   "outputs": [
    {
     "data": {
      "image/png": "[encoded data removed]",
      "text/plain": [
       "<Figure size 432x288 with 1 Axes>"
      ]
     },
     "metadata": {
      "needs_background": "light"
     },
     "output_type": "display_data"
    }
   ],
   "source": [
    "# Infubinol Outlier Plot\n",
    "fig1, ax1 = plt.subplots()\n",
    "ax1.set_title('Final Tumor Volume in Infubinol Regimen')\n",
    "ax1.set_ylabel('Final Tumor Volume (mm3)')\n",
    "ax1.boxplot(inf_data)\n",
    "plt.show()"
   ]
  },
  {
   "cell_type": "code",
   "execution_count": 101,
   "metadata": {},
   "outputs": [
    {
     "name": "stdout",
     "output_type": "stream",
     "text": [
      "The upper quartile of volumes is: 67.68556862\n",
      "The lower quartile of volumes is: 62.75445141\n",
      "The interquartile range of volumes is: 4.9311172099999965\n",
      "The the median of volumes is: 66.08306589 \n",
      "Outliers could be found in values above 75.08224443499999.\n",
      "Outliers could be found in values below 55.35777559500001.\n"
     ]
    }
   ],
   "source": [
    "# Ceftamin\n",
    "ceftamin_df = max_df[max_df['Drug Regimen'].isin(['Ceftamin'])]\n",
    "ceftamin_df.head().reset_index()\n",
    "\n",
    "cef_data = ceftamin_df.sort_values([\"Tumor Volume (mm3)\"], ascending=True).reset_index()\n",
    "cef_data = cef_data[\"Tumor Volume (mm3)\"]\n",
    "cef_data\n",
    "\n",
    "quartiles = inf_data.quantile([.25,.5,.75])\n",
    "upperq = quartiles[0.75]\n",
    "lowerq = quartiles[0.25]\n",
    "iqr = upperq-lowerq\n",
    "\n",
    "print(f\"The upper quartile of volumes is: {upperq}\")\n",
    "print(f\"The lower quartile of volumes is: {lowerq}\")\n",
    "print(f\"The interquartile range of volumes is: {iqr}\")\n",
    "print(f\"The the median of volumes is: {quartiles[0.5]} \")\n",
    "\n",
    "upper_bound = upperq + (1.5*iqr)\n",
    "lower_bound = lowerq - (1.5*iqr)\n",
    "\n",
    "print(f\"Outliers could be found in values above {upper_bound}.\")\n",
    "print(f\"Outliers could be found in values below {lower_bound}.\")"
   ]
  },
  {
   "cell_type": "code",
   "execution_count": 102,
   "metadata": {},
   "outputs": [
    {
     "data": {
      "image/png": "[encoded data removed]",
      "text/plain": [
       "<Figure size 432x288 with 1 Axes>"
      ]
     },
     "metadata": {
      "needs_background": "light"
     },
     "output_type": "display_data"
    }
   ],
   "source": [
    "# Ceftamin Outlier Plot\n",
    "fig1, ax1 = plt.subplots()\n",
    "ax1.set_title('Final Tumor Volume in Ceftamin Regimen')\n",
    "ax1.set_ylabel('Final Tumor Volume (mm3)')\n",
    "ax1.boxplot(cef_data)\n",
    "plt.show()"
   ]
  },
  {
   "cell_type": "code",
   "execution_count": 103,
   "metadata": {},
   "outputs": [],
   "source": [
    "# Generate a box plot of the final tumor volume of each mouse across four regimens of interest"
   ]
  },
  {
   "cell_type": "markdown",
   "metadata": {},
   "source": [
    "## Line and scatter plots"
   ]
  },
  {
   "cell_type": "code",
   "execution_count": 104,
   "metadata": {},
   "outputs": [
    {
     "data": {
      "text/plain": [
       "<matplotlib.axes._subplots.AxesSubplot at 0x1a1f7f4290>"
      ]
     },
     "execution_count": 104,
     "metadata": {},
     "output_type": "execute_result"
    },
    {
     "data": {
      "image/png": "[encoded data removed]",
      "text/plain": [
       "<Figure size 864x432 with 1 Axes>"
      ]
     },
     "metadata": {
      "needs_background": "light"
     },
     "output_type": "display_data"
    }
   ],
   "source": [
    "# Generate a line plot of time point versus tumor volume for a mouse treated with Capomulin\n",
    "new_cap_df = combo_data_df.loc[combo_data_df[\"Drug Regimen\"] == \"Capomulin\"]\n",
    "new_cap_df = new_cap_df.reset_index()\n",
    "new_cap_df.head()\n",
    "\n",
    "# One mouse\n",
    "single_cap_df = new_cap_df.loc[new_cap_df[\"Mouse ID\"] == \"s185\"]\n",
    "single_cap_df\n",
    "\n",
    "# Two columns\n",
    "single_cap_df = single_cap_df.loc[:, [\"Timepoint\", \"Tumor Volume (mm3)\"]]\n",
    "\n",
    "# Reset index\n",
    "single_cap_df = single_cap_df.reset_index(drop=True)\n",
    "\n",
    "# Line plot\n",
    "single_cap_df.set_index('Timepoint').plot(figsize=(12, 6), linewidth=2.5, color='red')"
   ]
  },
  {
   "cell_type": "code",
   "execution_count": 119,
   "metadata": {},
   "outputs": [
    {
     "data": {
      "image/png": "[encoded data removed]",
      "text/plain": [
       "<Figure size 288x288 with 1 Axes>"
      ]
     },
     "metadata": {
      "needs_background": "light"
     },
     "output_type": "display_data"
    }
   ],
   "source": [
    "# Generate a scatter plot of mouse weight versus average tumor volume for the Capomulin regimen\n",
    "new_cap_df.head()\n",
    "\n",
    "# Three columns\n",
    "cap_table_df = new_cap_df.loc[:, [\"Mouse ID\", \"Weight (g)\", \"Tumor Volume (mm3)\"]]\n",
    "cap_table_df.head()\n",
    "\n",
    "# Average Tumor Volume in the Capomulin regimen\n",
    "avg_vol_cap = pd.DataFrame(cap_table_df.groupby([\"Mouse ID\", \"Weight (g)\"])[\"Tumor Volume (mm3)\"].mean()).reset_index()\n",
    "avg_vol_cap.head()\n",
    "\n",
    "avg_vol_cap = avg_vol_cap.rename(columns={\"Tumor Volume (mm3)\": \"Average Volume\"})\n",
    "avg_vol_cap.head()\n",
    "\n",
    "avg_vol_cap = avg_vol_cap.set_index('Mouse ID')\n",
    "\n",
    "avg_vol_cap.plot(kind=\"scatter\", x=\"Weight (g)\", y=\"Average Volume\", grid=True, figsize=(4,4),\n",
    "              title=\"Weight vs. Avg Tumor Volume (Capomulin)\")\n",
    "plt.show()"
   ]
  },
  {
   "cell_type": "code",
   "execution_count": 136,
   "metadata": {},
   "outputs": [
    {
     "name": "stdout",
     "output_type": "stream",
     "text": [
      "The correlation between mouse weight & average tumor volume is 0.84\n"
     ]
    },
    {
     "data": {
      "image/png": "[encoded data removed]",
      "text/plain": [
       "<Figure size 432x288 with 1 Axes>"
      ]
     },
     "metadata": {
      "needs_background": "light"
     },
     "output_type": "display_data"
    }
   ],
   "source": [
    "# Calculate the correlation coefficient and linear regression model for mouse weight and average tumor volume for the Capomulin regimen\n",
    "from matplotlib import pyplot as plt\n",
    "from scipy import stats\n",
    "\n",
    "# Correlation coefficient\n",
    "mouse_weight = avg_vol_cap.iloc[:,0]\n",
    "avg_tum_vol = avg_vol_cap.iloc[:,1]\n",
    "correlation = st.pearsonr(mouse_weight,avg_tum_vol)\n",
    "print(f\"The correlation between mouse weight & average tumor volume is {round(correlation[0],2)}\")\n",
    "\n",
    "# Add linear regression equation & line to plot\n",
    "x_values = avg_vol_cap['Weight (g)']\n",
    "y_values = avg_vol_cap['Average Volume']\n",
    "slope, intercept, rvalue, pvalue, stderr = stats.linregress(x_values, y_values)\n",
    "regress_values = x_values * slope + intercept\n",
    "line_eq = \"y = \" + str(round(slope,2)) + \"x + \" + str(round(intercept,2))\n",
    "plt.scatter(x_values,y_values)\n",
    "plt.plot(x_values,regress_values,\"r-\")\n",
    "plt.xlabel('Mouse Weight')\n",
    "plt.ylabel('Average Tumor Volume')\n",
    "plt.show()"
   ]
  },
  {
   "cell_type": "code",
   "execution_count": null,
   "metadata": {},
   "outputs": [],
   "source": []
  },
  {
   "cell_type": "code",
   "execution_count": null,
   "metadata": {},
   "outputs": [],
   "source": []
  },
  {
   "cell_type": "code",
   "execution_count": null,
   "metadata": {},
   "outputs": [],
   "source": []
  },
  {
   "cell_type": "code",
   "execution_count": null,
   "metadata": {},
   "outputs": [],
   "source": []
  }
 ],
 "metadata": {
  "anaconda-cloud": {},
  "kernelspec": {
   "display_name": "Python 3",
   "language": "python",
   "name": "python3"
  },
  "language_info": {
   "codemirror_mode": {
    "name": "ipython",
    "version": 3
   },
   "file_extension": ".py",
   "mimetype": "text/x-python",
   "name": "python",
   "nbconvert_exporter": "python",
   "pygments_lexer": "ipython3",
   "version": "3.7.4"
  }
 },
 "nbformat": 4,
 "nbformat_minor": 2
}
